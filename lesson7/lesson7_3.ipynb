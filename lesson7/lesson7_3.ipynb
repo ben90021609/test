{
 "cells": [
  {
   "cell_type": "code",
   "execution_count": 1,
   "id": "af74e6be",
   "metadata": {},
   "outputs": [],
   "source": [
    "weekday:tuple[str] = ('星期一','星期二','星期三','星期四','星期五','星期六','星期日')\n",
    "                    #0,1,2,3,4,5,6"
   ]
  },
  {
   "cell_type": "code",
   "execution_count": 2,
   "id": "40d77c9c",
   "metadata": {},
   "outputs": [
    {
     "data": {
      "text/plain": [
       "'星期日'"
      ]
     },
     "execution_count": 2,
     "metadata": {},
     "output_type": "execute_result"
    }
   ],
   "source": [
    "weekday[6]"
   ]
  },
  {
   "cell_type": "code",
   "execution_count": 3,
   "id": "748c147a",
   "metadata": {},
   "outputs": [
    {
     "name": "stdout",
     "output_type": "stream",
     "text": [
      "星期一\n",
      "星期二\n",
      "星期三\n",
      "星期四\n",
      "星期五\n",
      "星期六\n",
      "星期日\n"
     ]
    }
   ],
   "source": [
    "for day in weekday:\n",
    "    print(day)"
   ]
  },
  {
   "cell_type": "code",
   "execution_count": null,
   "id": "2843229d",
   "metadata": {},
   "outputs": [
    {
     "data": {
      "text/plain": [
       "666"
      ]
     },
     "execution_count": 11,
     "metadata": {},
     "output_type": "execute_result"
    }
   ],
   "source": [
    "#拆解tuple給變數\n",
    "(n,p,q)=(\"1\",\"ace\",666)\n",
    "n\n",
    "p\n",
    "q"
   ]
  },
  {
   "cell_type": "code",
   "execution_count": null,
   "id": "50917801",
   "metadata": {},
   "outputs": [],
   "source": [
    "n,p,q=\"1\",\"ace\",666#小括號可省略"
   ]
  },
  {
   "cell_type": "code",
   "execution_count": 8,
   "id": "b9612940",
   "metadata": {},
   "outputs": [
    {
     "data": {
      "text/plain": [
       "('1', 'ace', 666)"
      ]
     },
     "execution_count": 8,
     "metadata": {},
     "output_type": "execute_result"
    }
   ],
   "source": [
    "n,p,q"
   ]
  }
 ],
 "metadata": {
  "kernelspec": {
   "display_name": "base",
   "language": "python",
   "name": "python3"
  },
  "language_info": {
   "codemirror_mode": {
    "name": "ipython",
    "version": 3
   },
   "file_extension": ".py",
   "mimetype": "text/x-python",
   "name": "python",
   "nbconvert_exporter": "python",
   "pygments_lexer": "ipython3",
   "version": "3.13.2"
  }
 },
 "nbformat": 4,
 "nbformat_minor": 5
}
