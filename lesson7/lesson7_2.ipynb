{
 "cells": [
  {
   "cell_type": "markdown",
   "id": "2d918f04",
   "metadata": {},
   "source": [
    "# print(*objects, sep=' ', end='\\n', file=None, flush=False)"
   ]
  },
  {
   "cell_type": "code",
   "execution_count": 7,
   "id": "03837e97",
   "metadata": {},
   "outputs": [
    {
     "name": "stdout",
     "output_type": "stream",
     "text": [
      "1 3 5 a b結束\n"
     ]
    }
   ],
   "source": [
    "print(1,3,5,\"a\",'b',end='結束\\n')"
   ]
  },
  {
   "cell_type": "code",
   "execution_count": 8,
   "id": "5b1a8f95",
   "metadata": {},
   "outputs": [
    {
     "name": "stdout",
     "output_type": "stream",
     "text": [
      "1=3=5=a=b結束\n"
     ]
    }
   ],
   "source": [
    "print(1,3,5,\"a\",'b',sep='=',end='結束\\n')"
   ]
  }
 ],
 "metadata": {
  "kernelspec": {
   "display_name": "base",
   "language": "python",
   "name": "python3"
  },
  "language_info": {
   "codemirror_mode": {
    "name": "ipython",
    "version": 3
   },
   "file_extension": ".py",
   "mimetype": "text/x-python",
   "name": "python",
   "nbconvert_exporter": "python",
   "pygments_lexer": "ipython3",
   "version": "3.13.2"
  }
 },
 "nbformat": 4,
 "nbformat_minor": 5
}
