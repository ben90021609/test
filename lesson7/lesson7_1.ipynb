{
 "cells": [
  {
   "cell_type": "markdown",
   "id": "8794724b",
   "metadata": {},
   "source": [
    "# function的呼叫方式\n",
    "## 引數值"
   ]
  },
  {
   "cell_type": "code",
   "execution_count": 3,
   "id": "f7009867",
   "metadata": {},
   "outputs": [],
   "source": [
    "def menu(wine, entree,dessert):\n",
    "    print(f\"前酒:{wine}\")\n",
    "    print(f\"主餐:{entree}\")\n",
    "    print(f\"甜點:{dessert}\")"
   ]
  },
  {
   "cell_type": "code",
   "execution_count": 12,
   "id": "61124f34",
   "metadata": {},
   "outputs": [
    {
     "name": "stdout",
     "output_type": "stream",
     "text": [
      "前酒:白酒\n",
      "主餐:牛排\n",
      "甜點:提拉米蘇\n"
     ]
    }
   ],
   "source": [
    "menu(\"白酒\",\"牛排\",\"提拉米蘇\")"
   ]
  },
  {
   "cell_type": "markdown",
   "id": "9aa63041",
   "metadata": {},
   "source": [
    "# 順序可調換不影響\n",
    "## 使用參數的名稱當作引數名稱，可以不依照參數的順序"
   ]
  },
  {
   "cell_type": "code",
   "execution_count": 13,
   "id": "20fc07ac",
   "metadata": {},
   "outputs": [
    {
     "name": "stdout",
     "output_type": "stream",
     "text": [
      "前酒:白酒\n",
      "主餐:牛排\n",
      "甜點:布朗尼\n"
     ]
    }
   ],
   "source": [
    "menu(wine=\"白酒\",entree=\"牛排\",dessert=\"布朗尼\")"
   ]
  },
  {
   "cell_type": "code",
   "execution_count": 7,
   "id": "1183539b",
   "metadata": {},
   "outputs": [
    {
     "name": "stdout",
     "output_type": "stream",
     "text": [
      "前酒:白酒\n",
      "主餐:牛排\n",
      "甜點:布朗尼\n"
     ]
    }
   ],
   "source": [
    "menu(wine=\"白酒\",dessert=\"布朗尼\",entree=\"牛排\")"
   ]
  },
  {
   "cell_type": "markdown",
   "id": "6a951108",
   "metadata": {},
   "source": [
    "### 混和呼叫\n",
    "- 前面一定先用引數值(位置)，後面用引數名稱後都必須要引數名稱"
   ]
  },
  {
   "cell_type": "code",
   "execution_count": 10,
   "id": "c490a3b5",
   "metadata": {},
   "outputs": [
    {
     "name": "stdout",
     "output_type": "stream",
     "text": [
      "前酒:白酒\n",
      "主餐:豬排\n",
      "甜點:草莓蛋糕\n"
     ]
    }
   ],
   "source": [
    "menu(\"白酒\",dessert=\"草莓蛋糕\",entree = \"豬排\")"
   ]
  },
  {
   "cell_type": "markdown",
   "id": "209212a8",
   "metadata": {},
   "source": [
    "## 有預設值的擺最後"
   ]
  },
  {
   "cell_type": "code",
   "execution_count": 16,
   "id": "32be0207",
   "metadata": {},
   "outputs": [],
   "source": [
    "def menu(wine, entree, dessert=\"蛋塔\"):\n",
    "    print(f\"前酒:{wine}\")\n",
    "    print(f\"主餐:{entree}\")\n",
    "    print(f\"甜點:{dessert}\")"
   ]
  },
  {
   "cell_type": "code",
   "execution_count": 17,
   "id": "29b069bb",
   "metadata": {},
   "outputs": [
    {
     "name": "stdout",
     "output_type": "stream",
     "text": [
      "前酒:紅酒\n",
      "主餐:牛排\n",
      "甜點:蛋塔\n"
     ]
    }
   ],
   "source": [
    "menu(\"紅酒\",\"牛排\")"
   ]
  },
  {
   "cell_type": "code",
   "execution_count": 18,
   "id": "a17e0059",
   "metadata": {},
   "outputs": [
    {
     "name": "stdout",
     "output_type": "stream",
     "text": [
      "前酒:紅酒\n",
      "主餐:牛排\n",
      "甜點:蛋塔\n"
     ]
    }
   ],
   "source": [
    "menu(\"紅酒\",\"牛排\",dessert=\"蛋塔\")"
   ]
  }
 ],
 "metadata": {
  "kernelspec": {
   "display_name": "base",
   "language": "python",
   "name": "python3"
  },
  "language_info": {
   "codemirror_mode": {
    "name": "ipython",
    "version": 3
   },
   "file_extension": ".py",
   "mimetype": "text/x-python",
   "name": "python",
   "nbconvert_exporter": "python",
   "pygments_lexer": "ipython3",
   "version": "3.13.2"
  }
 },
 "nbformat": 4,
 "nbformat_minor": 5
}
