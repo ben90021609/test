{
 "cells": [
  {
   "cell_type": "markdown",
   "id": "235221e4",
   "metadata": {},
   "source": [
    "### 自訂class"
   ]
  },
  {
   "cell_type": "code",
   "execution_count": 5,
   "id": "d545a807",
   "metadata": {},
   "outputs": [],
   "source": [
    "class Student:\n",
    "    def __init__(self,name:str,chinese:int,english:int,math:int):  #__init__內建的\n",
    "        self.name = name\n",
    "        self.chinese = chinese\n",
    "        self.english = english\n",
    "        self.math = math\n",
    "\n",
    "\n",
    "    @property\n",
    "    def total(self)->int:\n",
    "        return self.chinese + self.english + self.math\n",
    "    \n",
    "    def average(self)->float:\n",
    "        return self.total /3.0\n",
    "\n",
    "    def __repr__(self)->str:\n",
    "        return f'{self.name}的相關資料'"
   ]
  },
  {
   "cell_type": "code",
   "execution_count": 6,
   "id": "cebd2ea7",
   "metadata": {},
   "outputs": [
    {
     "name": "stdout",
     "output_type": "stream",
     "text": [
      "<class '__main__.Student'>\n",
      "robert 89 78 92\n",
      "259\n",
      "86.33333333333333\n",
      "robert的相關資料\n"
     ]
    }
   ],
   "source": [
    "stu1 = Student(name='robert',chinese=89, english=78, math=92)\n",
    "print(type(stu1))\n",
    "print(stu1.name, stu1.chinese, stu1.english, stu1.math)\n",
    "print(stu1.total)\n",
    "print(stu1.average())\n",
    "print(stu1)"
   ]
  }
 ],
 "metadata": {
  "kernelspec": {
   "display_name": "base",
   "language": "python",
   "name": "python3"
  },
  "language_info": {
   "codemirror_mode": {
    "name": "ipython",
    "version": 3
   },
   "file_extension": ".py",
   "mimetype": "text/x-python",
   "name": "python",
   "nbconvert_exporter": "python",
   "pygments_lexer": "ipython3",
   "version": "3.13.2"
  }
 },
 "nbformat": 4,
 "nbformat_minor": 5
}
