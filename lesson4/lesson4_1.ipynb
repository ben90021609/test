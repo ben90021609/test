{
 "cells": [
  {
   "cell_type": "markdown",
   "id": "66cea263",
   "metadata": {},
   "source": []
  },
  {
   "cell_type": "code",
   "execution_count": null,
   "id": "1a2bdf71",
   "metadata": {},
   "outputs": [
    {
     "name": "stdout",
     "output_type": "stream",
     "text": [
      "這是true的主程式區塊\n",
      "現在是true\n",
      "應用程式結束\n"
     ]
    }
   ],
   "source": [
    "#單項選擇，true執行，false不執行\n",
    "if True:\n",
    "    print(\"這是true的主程式區塊\")\n",
    "    print(\"現在是true\")\n",
    "print(\"應用程式結束\")"
   ]
  },
  {
   "cell_type": "code",
   "execution_count": null,
   "id": "dd7dee71",
   "metadata": {},
   "outputs": [
    {
     "name": "stdout",
     "output_type": "stream",
     "text": [
      "這是true的主程式區塊\n",
      "現在是true\n",
      "應用程式結束\n"
     ]
    }
   ],
   "source": [
    "#雙項選擇，一定執行其中一個區塊\n",
    "if True:\n",
    "    print(\"這是true的主程式區塊\")\n",
    "    print(\"現在是true\")\n",
    "else:\n",
    "    print(\"這是false的主程式區塊\")\n",
    "    print(\"現在是false\")\n",
    "print(\"應用程式結束\")"
   ]
  },
  {
   "cell_type": "code",
   "execution_count": 3,
   "id": "79b1205b",
   "metadata": {},
   "outputs": [
    {
     "name": "stdout",
     "output_type": "stream",
     "text": [
      "不可以考駕照\n"
     ]
    }
   ],
   "source": [
    "age:int = int(input(\"請輸入年齡\"))\n",
    "\n",
    "if age>=18:\n",
    "    print(\"可以考駕照\")\n",
    "else:\n",
    "    print(\"不可以考駕照\")"
   ]
  },
  {
   "cell_type": "code",
   "execution_count": null,
   "id": "3fe9372b",
   "metadata": {},
   "outputs": [
    {
     "name": "stdout",
     "output_type": "stream",
     "text": [
      "300\n"
     ]
    }
   ],
   "source": [
    "scores:int = int(input(\"請輸入學生分數(最高300分):\"))\n",
    "add:str = input(\"學生是否符合加分條件?(Y,N)\")\n",
    "if (add==\"Y\"):#也可不加括弧\n",
    "    scores*=1.05#scores= scores*1.05\n",
    "    if scores > 300:\n",
    "        scores = 300\n",
    "print(round(scores))#round()四捨五入"
   ]
  },
  {
   "cell_type": "code",
   "execution_count": 19,
   "id": "bd018ff6",
   "metadata": {},
   "outputs": [
    {
     "name": "stdout",
     "output_type": "stream",
     "text": [
      "270\n",
      "應用程式結束\n"
     ]
    }
   ],
   "source": [
    "try:\n",
    "    scores:int = int(input(\"請輸入學生分數(最高300分):\"))\n",
    "    if scores>300:\n",
    "        raise Exception(\"輸入分數超過300\")#自己raise錯誤\n",
    "    add:str = input(\"學生是否符合加分條件?(Y,N)\")\n",
    "    if (add==\"Y\"):#也可不加括弧\n",
    "        scores*=1.05#scores= scores*1.05\n",
    "        if scores > 300:\n",
    "            scores = 300\n",
    "except ValueError:\n",
    "    print(\"輸入錯誤\")\n",
    "except Exception as e:\n",
    "    print(e)\n",
    "else:\n",
    "    print(round(scores))#round()四捨五入\n",
    "print(\"應用程式結束\")"
   ]
  },
  {
   "cell_type": "code",
   "execution_count": null,
   "id": "76ba5828",
   "metadata": {},
   "outputs": [],
   "source": [
    "scores = int(input(\"score:\"))\n",
    "if scores >= 80:\n",
    "    print(\"優\")\n",
    "else:\n",
    "    if scores >= 60:\n",
    "        print(\"甲\")\n",
    "    else:\n",
    "        print(\"不及格\")"
   ]
  },
  {
   "cell_type": "code",
   "execution_count": 20,
   "id": "2a51afbd",
   "metadata": {},
   "outputs": [
    {
     "name": "stdout",
     "output_type": "stream",
     "text": [
      "不及格\n"
     ]
    }
   ],
   "source": [
    "scores = int(input(\"score:\"))\n",
    "if scores >= 80:\n",
    "    print(\"優\")\n",
    "elif scores >= 60:#else + if\n",
    "    print(\"甲\")\n",
    "else:\n",
    "        print(\"不及格\")"
   ]
  }
 ],
 "metadata": {
  "kernelspec": {
   "display_name": "base",
   "language": "python",
   "name": "python3"
  },
  "language_info": {
   "codemirror_mode": {
    "name": "ipython",
    "version": 3
   },
   "file_extension": ".py",
   "mimetype": "text/x-python",
   "name": "python",
   "nbconvert_exporter": "python",
   "pygments_lexer": "ipython3",
   "version": "3.12.9"
  }
 },
 "nbformat": 4,
 "nbformat_minor": 5
}
