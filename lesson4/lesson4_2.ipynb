{
 "cells": [
  {
   "cell_type": "code",
   "execution_count": 5,
   "id": "ecd5aa78",
   "metadata": {},
   "outputs": [
    {
     "name": "stdout",
     "output_type": "stream",
     "text": [
      "數值在120~200\n"
     ]
    }
   ],
   "source": [
    "#槽狀\n",
    "value:int = int(input(\"請輸入一個數\"))\n",
    "if value >= 120:\n",
    "    if value <= 200:\n",
    "        print(\"數值在120~200\")"
   ]
  },
  {
   "cell_type": "code",
   "execution_count": 6,
   "id": "49a5e1dd",
   "metadata": {},
   "outputs": [
    {
     "name": "stdout",
     "output_type": "stream",
     "text": [
      "數值在120~200\n"
     ]
    }
   ],
   "source": [
    "#邏輯運算子\n",
    "v:int = int(input(\"請輸入一個數\"))\n",
    "if v>=120 and v<=220:\n",
    "    print(\"數值在120~200\")"
   ]
  },
  {
   "cell_type": "code",
   "execution_count": 8,
   "id": "ad2b0426",
   "metadata": {},
   "outputs": [
    {
     "name": "stdout",
     "output_type": "stream",
     "text": [
      "小於120或大於220\n"
     ]
    }
   ],
   "source": [
    "v:int = int(input(\"請輸入一個數\"))\n",
    "if v<120 or v>220:\n",
    "    print(\"小於120或大於220\")"
   ]
  }
 ],
 "metadata": {
  "kernelspec": {
   "display_name": "base",
   "language": "python",
   "name": "python3"
  },
  "language_info": {
   "codemirror_mode": {
    "name": "ipython",
    "version": 3
   },
   "file_extension": ".py",
   "mimetype": "text/x-python",
   "name": "python",
   "nbconvert_exporter": "python",
   "pygments_lexer": "ipython3",
   "version": "3.12.9"
  }
 },
 "nbformat": 4,
 "nbformat_minor": 5
}
