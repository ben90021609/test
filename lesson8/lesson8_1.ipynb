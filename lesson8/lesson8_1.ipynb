{
 "cells": [
  {
   "cell_type": "code",
   "execution_count": 2,
   "id": "d24a672c",
   "metadata": {},
   "outputs": [
    {
     "data": {
      "text/plain": [
       "list"
      ]
     },
     "execution_count": 2,
     "metadata": {},
     "output_type": "execute_result"
    }
   ],
   "source": [
    "weekday = ['星期一','星期二','星期三','星期四','星期五','星期六','星期日']\n",
    "type(weekday)"
   ]
  },
  {
   "cell_type": "code",
   "execution_count": 3,
   "id": "e417742b",
   "metadata": {},
   "outputs": [
    {
     "data": {
      "text/plain": [
       "'星期五'"
      ]
     },
     "execution_count": 3,
     "metadata": {},
     "output_type": "execute_result"
    }
   ],
   "source": [
    "weekday[-3]"
   ]
  },
  {
   "cell_type": "code",
   "execution_count": 8,
   "id": "003acc7a",
   "metadata": {},
   "outputs": [
    {
     "data": {
      "text/plain": [
       "['星期一', '星期二', '星期三', '星期四']"
      ]
     },
     "execution_count": 8,
     "metadata": {},
     "output_type": "execute_result"
    }
   ],
   "source": [
    "weekday[0:3]\n",
    "weekday[3:]\n",
    "weekday[:3]\n",
    "weekday[1:3]\n",
    "weekday[:-3]"
   ]
  },
  {
   "cell_type": "code",
   "execution_count": 15,
   "id": "e4091211",
   "metadata": {},
   "outputs": [
    {
     "name": "stdout",
     "output_type": "stream",
     "text": [
      "星期一\n",
      "星期二\n",
      "星期三\n",
      "星期四\n",
      "星期五\n",
      "星期六\n",
      "星期日\n"
     ]
    }
   ],
   "source": [
    "for day in weekday:\n",
    "   print(day)"
   ]
  },
  {
   "cell_type": "code",
   "execution_count": 23,
   "id": "f561e5ea",
   "metadata": {},
   "outputs": [
    {
     "data": {
      "text/plain": [
       "{'tw': 'taiwan', 'jp': 'japan', 'hk': 'hong kong'}"
      ]
     },
     "execution_count": 23,
     "metadata": {},
     "output_type": "execute_result"
    }
   ],
   "source": [
    "codes = {\"tw\":\"taiwan\",\"jp\":\"japan\",\"hk\":\"hong kong\"}\n",
    "codes"
   ]
  },
  {
   "cell_type": "code",
   "execution_count": 24,
   "id": "98b745a5",
   "metadata": {},
   "outputs": [
    {
     "data": {
      "text/plain": [
       "'taiwan'"
      ]
     },
     "execution_count": 24,
     "metadata": {},
     "output_type": "execute_result"
    }
   ],
   "source": [
    "codes[\"tw\"]"
   ]
  },
  {
   "cell_type": "code",
   "execution_count": 26,
   "id": "f6b70db1",
   "metadata": {},
   "outputs": [
    {
     "name": "stdout",
     "output_type": "stream",
     "text": [
      "tw\n",
      "taiwan\n",
      "======\n",
      "jp\n",
      "japan\n",
      "======\n",
      "hk\n",
      "hong kong\n",
      "======\n"
     ]
    }
   ],
   "source": [
    "for key in codes:\n",
    "    print(key)\n",
    "    print(codes[key])\n",
    "    print(\"======\")"
   ]
  },
  {
   "cell_type": "code",
   "execution_count": 27,
   "id": "53da05a8",
   "metadata": {},
   "outputs": [
    {
     "data": {
      "text/plain": [
       "{'台中', '台北', '高雄'}"
      ]
     },
     "execution_count": 27,
     "metadata": {},
     "output_type": "execute_result"
    }
   ],
   "source": [
    "#set\n",
    "citys = {'台北','台中','高雄','台北','台中','高雄'}\n",
    "citys"
   ]
  }
 ],
 "metadata": {
  "kernelspec": {
   "display_name": "base",
   "language": "python",
   "name": "python3"
  },
  "language_info": {
   "codemirror_mode": {
    "name": "ipython",
    "version": 3
   },
   "file_extension": ".py",
   "mimetype": "text/x-python",
   "name": "python",
   "nbconvert_exporter": "python",
   "pygments_lexer": "ipython3",
   "version": "3.13.2"
  }
 },
 "nbformat": 4,
 "nbformat_minor": 5
}
