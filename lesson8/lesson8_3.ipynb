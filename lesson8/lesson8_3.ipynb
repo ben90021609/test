{
 "cells": [
  {
   "cell_type": "code",
   "execution_count": 4,
   "id": "927e6bb7",
   "metadata": {},
   "outputs": [
    {
     "data": {
      "text/plain": [
       "list"
      ]
     },
     "execution_count": 4,
     "metadata": {},
     "output_type": "execute_result"
    }
   ],
   "source": [
    "weekday = ['星期一','星期二','星期三','星期四','星期五','星期六','星期日']\n",
    "type(weekday)\n",
    "#所有的變數一定要知道他的資料類型"
   ]
  },
  {
   "cell_type": "code",
   "execution_count": 5,
   "id": "9fb799be",
   "metadata": {},
   "outputs": [
    {
     "data": {
      "text/plain": [
       "['星期一', '星期二', '星期三', '星期四', '星期五', '星期六', '星期日', '馬桶']"
      ]
     },
     "execution_count": 5,
     "metadata": {},
     "output_type": "execute_result"
    }
   ],
   "source": [
    "weekday.append(\"馬桶\")\n",
    "weekday"
   ]
  }
 ],
 "metadata": {
  "kernelspec": {
   "display_name": "base",
   "language": "python",
   "name": "python3"
  },
  "language_info": {
   "codemirror_mode": {
    "name": "ipython",
    "version": 3
   },
   "file_extension": ".py",
   "mimetype": "text/x-python",
   "name": "python",
   "nbconvert_exporter": "python",
   "pygments_lexer": "ipython3",
   "version": "3.13.2"
  }
 },
 "nbformat": 4,
 "nbformat_minor": 5
}
