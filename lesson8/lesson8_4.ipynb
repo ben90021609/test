{
 "cells": [
  {
   "cell_type": "code",
   "execution_count": 1,
   "id": "9c4a5089",
   "metadata": {},
   "outputs": [],
   "source": [
    "from dataclasses import dataclass\n",
    "\n",
    "@dataclass\n",
    "class Student:\n",
    "    name : str\n",
    "    chinese : int\n",
    "    math : int\n",
    "    english : int"
   ]
  },
  {
   "cell_type": "code",
   "execution_count": 3,
   "id": "fecaab6b",
   "metadata": {},
   "outputs": [
    {
     "data": {
      "text/plain": [
       "list"
      ]
     },
     "execution_count": 3,
     "metadata": {},
     "output_type": "execute_result"
    }
   ],
   "source": [
    "student:list[Student]=[Student(name=\"Ben\",chinese=100,math=90,english=90),\n",
    "Student(name=\"Ken\",chinese=60,math=80,english=83)]\n",
    "\n",
    "type(student)"
   ]
  },
  {
   "cell_type": "code",
   "execution_count": 4,
   "id": "191ccc6c",
   "metadata": {},
   "outputs": [
    {
     "name": "stdout",
     "output_type": "stream",
     "text": [
      "Ben\n",
      "100\n",
      "90\n",
      "90\n",
      "==================\n",
      "Ken\n",
      "60\n",
      "80\n",
      "83\n",
      "==================\n"
     ]
    }
   ],
   "source": [
    "for s in student:\n",
    "    print(s.name)\n",
    "    print(s.chinese)\n",
    "    print(s.math)\n",
    "    print(s.english)\n",
    "    print(\"==================\")"
   ]
  }
 ],
 "metadata": {
  "kernelspec": {
   "display_name": "base",
   "language": "python",
   "name": "python3"
  },
  "language_info": {
   "codemirror_mode": {
    "name": "ipython",
    "version": 3
   },
   "file_extension": ".py",
   "mimetype": "text/x-python",
   "name": "python",
   "nbconvert_exporter": "python",
   "pygments_lexer": "ipython3",
   "version": "3.13.2"
  }
 },
 "nbformat": 4,
 "nbformat_minor": 5
}
