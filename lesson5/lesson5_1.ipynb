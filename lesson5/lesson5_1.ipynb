{
 "cells": [
  {
   "cell_type": "code",
   "execution_count": 1,
   "id": "02eb81ec",
   "metadata": {},
   "outputs": [
    {
     "name": "stdout",
     "output_type": "stream",
     "text": [
      "優\n"
     ]
    }
   ],
   "source": [
    "s= int(input(\"請輸入學生分數0~100:\"))\n",
    "if s<60:\n",
    "    print(\"丁\")\n",
    "elif s<70:\n",
    "    print(\"丙\")\n",
    "elif s<80:\n",
    "    print(\"乙\")\n",
    "elif s<90:\n",
    "    print(\"甲\")\n",
    "else:\n",
    "    print(\"優\")"
   ]
  },
  {
   "cell_type": "code",
   "execution_count": null,
   "id": "aae0ffa3",
   "metadata": {},
   "outputs": [
    {
     "name": "stdout",
     "output_type": "stream",
     "text": [
      "獎金1000\n"
     ]
    }
   ],
   "source": [
    "c=int(input(\"請輸入國文成績:\"))\n",
    "m=int(input(\"請輸入數學成績:\"))\n",
    "if c==100 and m==100:\n",
    "    print(\"獎金1000\")\n",
    "elif c==100 or m==100:\n",
    "    print(\"獎金500\")\n",
    "else:\n",
    "    print(\"獎金0\")\n"
   ]
  }
 ],
 "metadata": {
  "kernelspec": {
   "display_name": "base",
   "language": "python",
   "name": "python3"
  },
  "language_info": {
   "codemirror_mode": {
    "name": "ipython",
    "version": 3
   },
   "file_extension": ".py",
   "mimetype": "text/x-python",
   "name": "python",
   "nbconvert_exporter": "python",
   "pygments_lexer": "ipython3",
   "version": "3.12.9"
  }
 },
 "nbformat": 4,
 "nbformat_minor": 5
}
