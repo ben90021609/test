{
 "cells": [
  {
   "cell_type": "markdown",
   "id": "6e714ace",
   "metadata": {},
   "source": [
    "# 複合指定運算子"
   ]
  },
  {
   "cell_type": "code",
   "execution_count": 9,
   "id": "e5ce4718",
   "metadata": {},
   "outputs": [
    {
     "name": "stdout",
     "output_type": "stream",
     "text": [
      "15\n"
     ]
    }
   ],
   "source": [
    "n = 5\n",
    "n= n + 10\n",
    "print(n)"
   ]
  },
  {
   "cell_type": "code",
   "execution_count": 10,
   "id": "81f1f096",
   "metadata": {},
   "outputs": [
    {
     "name": "stdout",
     "output_type": "stream",
     "text": [
      "15\n"
     ]
    }
   ],
   "source": [
    "n = 5\n",
    "n += 10\n",
    "print(n)"
   ]
  },
  {
   "cell_type": "markdown",
   "id": "e67bedd3",
   "metadata": {},
   "source": [
    "### 使用內建的函示庫(math)"
   ]
  },
  {
   "cell_type": "code",
   "execution_count": 11,
   "id": "0225fa27",
   "metadata": {},
   "outputs": [
    {
     "name": "stdout",
     "output_type": "stream",
     "text": [
      "斜邊長度= 5.830951894845301\n"
     ]
    }
   ],
   "source": [
    "import math\n",
    "a=eval(input(\"輸入鄰邊長度:\"))\n",
    "b=eval(input(\"輸入對邊長度:\"))\n",
    "c=math.sqrt(a**2+b**2)\n",
    "print(\"斜邊長度=\",c)"
   ]
  },
  {
   "cell_type": "code",
   "execution_count": 25,
   "id": "fe984e81",
   "metadata": {},
   "outputs": [
    {
     "name": "stdout",
     "output_type": "stream",
     "text": [
      "弳度=0.6435011087932844\n",
      "角度=36.87\n"
     ]
    }
   ],
   "source": [
    "import math\n",
    "a=eval(input(\"輸入鄰邊長度:\"))\n",
    "b=eval(input(\"輸入斜邊長度:\"))\n",
    "r=math.asin(a/b)\n",
    "d=math.degrees(r)\n",
    "print(f\"弳度={r}\")\n",
    "print(f\"角度={d:.2f}\")"
   ]
  },
  {
   "cell_type": "markdown",
   "id": "16fbdff5",
   "metadata": {},
   "source": [
    "# 字串插補(字串的格式化)"
   ]
  },
  {
   "cell_type": "code",
   "execution_count": null,
   "id": "40e79c07",
   "metadata": {},
   "outputs": [
    {
     "name": "stdout",
     "output_type": "stream",
     "text": [
      "國文成績: 90\n"
     ]
    }
   ],
   "source": [
    "chinese=90\n",
    "math=95\n",
    "print(\"國文成績:\"+ str(chinese)+\",數學成績:\"+str(math))"
   ]
  },
  {
   "cell_type": "code",
   "execution_count": 23,
   "id": "9d067f97",
   "metadata": {},
   "outputs": [
    {
     "name": "stdout",
     "output_type": "stream",
     "text": [
      "國文成績:92.38,數學成績:95\n"
     ]
    }
   ],
   "source": [
    "chinese=92.3756\n",
    "math=95\n",
    "print(f\"國文成績:{chinese:.2f},數學成績:{math}\")"
   ]
  }
 ],
 "metadata": {
  "kernelspec": {
   "display_name": "base",
   "language": "python",
   "name": "python3"
  },
  "language_info": {
   "codemirror_mode": {
    "name": "ipython",
    "version": 3
   },
   "file_extension": ".py",
   "mimetype": "text/x-python",
   "name": "python",
   "nbconvert_exporter": "python",
   "pygments_lexer": "ipython3",
   "version": "3.12.9"
  }
 },
 "nbformat": 4,
 "nbformat_minor": 5
}
