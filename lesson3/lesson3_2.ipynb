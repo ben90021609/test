{
 "cells": [
  {
   "cell_type": "markdown",
   "id": "6e714ace",
   "metadata": {},
   "source": [
    "# 複合指定運算子"
   ]
  },
  {
   "cell_type": "code",
   "execution_count": 9,
   "id": "e5ce4718",
   "metadata": {},
   "outputs": [
    {
     "name": "stdout",
     "output_type": "stream",
     "text": [
      "15\n"
     ]
    }
   ],
   "source": [
    "n = 5\n",
    "n= n + 10\n",
    "print(n)"
   ]
  },
  {
   "cell_type": "code",
   "execution_count": 10,
   "id": "81f1f096",
   "metadata": {},
   "outputs": [
    {
     "name": "stdout",
     "output_type": "stream",
     "text": [
      "15\n"
     ]
    }
   ],
   "source": [
    "n = 5\n",
    "n += 10\n",
    "print(n)"
   ]
  },
  {
   "cell_type": "markdown",
   "id": "e67bedd3",
   "metadata": {},
   "source": [
    "### 使用內建的函示庫(math)"
   ]
  },
  {
   "cell_type": "code",
   "execution_count": 11,
   "id": "0225fa27",
   "metadata": {},
   "outputs": [
    {
     "name": "stdout",
     "output_type": "stream",
     "text": [
      "斜邊長度= 5.830951894845301\n"
     ]
    }
   ],
   "source": [
    "import math\n",
    "a=eval(input(\"輸入鄰邊長度:\"))\n",
    "b=eval(input(\"輸入對邊長度:\"))\n",
    "c=math.sqrt(a**2+b**2)\n",
    "print(\"斜邊長度=\",c)"
   ]
  },
  {
   "cell_type": "code",
   "execution_count": 25,
   "id": "fe984e81",
   "metadata": {},
   "outputs": [
    {
     "name": "stdout",
     "output_type": "stream",
     "text": [
      "弳度=0.6435011087932844\n",
      "角度=36.87\n"
     ]
    }
   ],
   "source": [
    "import math\n",
    "a=eval(input(\"輸入鄰邊長度:\"))\n",
    "b=eval(input(\"輸入斜邊長度:\"))\n",
    "r=math.asin(a/b)\n",
    "d=math.degrees(r)\n",
    "print(f\"弳度={r}\")\n",
    "print(f\"角度={d:.2f}\")"
   ]
  },
  {
   "cell_type": "markdown",
   "id": "16fbdff5",
   "metadata": {},
   "source": [
    "# 字串插補(字串的格式化)"
   ]
  },
  {
   "cell_type": "code",
   "execution_count": null,
   "id": "40e79c07",
   "metadata": {},
   "outputs": [
    {
     "name": "stdout",
     "output_type": "stream",
     "text": [
      "國文成績: 90\n"
     ]
    }
   ],
   "source": [
    "chinese=90\n",
    "math=95\n",
    "print(\"國文成績:\"+ str(chinese)+\",數學成績:\"+str(math))"
   ]
  },
  {
   "cell_type": "code",
   "execution_count": 23,
   "id": "9d067f97",
   "metadata": {},
   "outputs": [
    {
     "name": "stdout",
     "output_type": "stream",
     "text": [
      "國文成績:92.38,數學成績:95\n"
     ]
    }
   ],
   "source": [
    "chinese=92.3756\n",
    "math=95\n",
    "print(f\"國文成績:{chinese:.2f},數學成績:{math}\")"
   ]
  },
  {
   "cell_type": "code",
   "execution_count": 21,
   "id": "c7f55c52",
   "metadata": {},
   "outputs": [
    {
     "name": "stdout",
     "output_type": "stream",
     "text": [
      "您的體重為:85公斤\n",
      "您的身高為:1.78公尺\n",
      "您的BMI為:26.83\n"
     ]
    }
   ],
   "source": [
    "weight = eval(input(\"請輸入您的體重(公斤):\"))\n",
    "height = eval(input(\"請輸入您的身高(公尺):\"))\n",
    "BMI= weight/height**2\n",
    "print(f\"您的體重為:{weight}公斤\")\n",
    "print(f\"您的身高為:{height}公尺\")\n",
    "print(f\"您的BMI為:{BMI:.2f}\")"
   ]
  },
  {
   "cell_type": "code",
   "execution_count": 1,
   "id": "88c55a7f",
   "metadata": {},
   "outputs": [
    {
     "name": "stdout",
     "output_type": "stream",
     "text": [
      "輸入錯誤\n"
     ]
    }
   ],
   "source": [
    "try:\n",
    "    weight = float(input(\"請輸入您的體重(公斤):\"))\n",
    "    if weight<30 or weight>200:\n",
    "        raise Exception(\"體重輸入錯誤需在30~200\")\n",
    "    height = float(input(\"請輸入您的身高(公尺):\"))\n",
    "    if height<1.2 or height>2:\n",
    "        raise Exception(\"身高輸入錯誤需在1.2~2\")\n",
    "except ValueError:\n",
    "    print(\"輸入錯誤\")\n",
    "except Exception as e:\n",
    "    print(e)\n",
    "else:\n",
    "    BMI= weight/height**2\n",
    "    print(f\"您的體重為:{weight}公斤\")\n",
    "    print(f\"您的身高為:{height}公尺\")\n",
    "    print(f\"您的BMI為:{BMI:.2f}\")"
   ]
  }
 ],
 "metadata": {
  "kernelspec": {
   "display_name": "base",
   "language": "python",
   "name": "python3"
  },
  "language_info": {
   "codemirror_mode": {
    "name": "ipython",
    "version": 3
   },
   "file_extension": ".py",
   "mimetype": "text/x-python",
   "name": "python",
   "nbconvert_exporter": "python",
   "pygments_lexer": "ipython3",
   "version": "3.12.9"
  }
 },
 "nbformat": 4,
 "nbformat_minor": 5
}
