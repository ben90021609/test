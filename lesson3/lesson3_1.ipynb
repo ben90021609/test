{
 "cells": [
  {
   "cell_type": "markdown",
   "id": "e5ddc991",
   "metadata": {},
   "source": [
    "# 數值運算(int,float)\n",
    "# 數學運算子\n",
    "# 運算子運算順序\n"
   ]
  },
  {
   "cell_type": "code",
   "execution_count": 6,
   "id": "c8a1bbb8",
   "metadata": {},
   "outputs": [
    {
     "data": {
      "text/plain": [
       "10"
      ]
     },
     "execution_count": 6,
     "metadata": {},
     "output_type": "execute_result"
    }
   ],
   "source": [
    "2*(1+2)**2-2**2*2"
   ]
  }
 ],
 "metadata": {
  "kernelspec": {
   "display_name": "base",
   "language": "python",
   "name": "python3"
  },
  "language_info": {
   "codemirror_mode": {
    "name": "ipython",
    "version": 3
   },
   "file_extension": ".py",
   "mimetype": "text/x-python",
   "name": "python",
   "nbconvert_exporter": "python",
   "pygments_lexer": "ipython3",
   "version": "3.12.9"
  }
 },
 "nbformat": 4,
 "nbformat_minor": 5
}
