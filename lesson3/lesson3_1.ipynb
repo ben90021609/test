{
 "cells": [
  {
   "cell_type": "markdown",
   "id": "e5ddc991",
   "metadata": {},
   "source": [
    "# 數值運算(int,float)\n",
    "# 數學運算子\n",
    "# 運算子運算順序\n"
   ]
  },
  {
   "cell_type": "code",
   "execution_count": 48,
   "id": "c8a1bbb8",
   "metadata": {},
   "outputs": [
    {
     "data": {
      "text/plain": [
       "10"
      ]
     },
     "execution_count": 48,
     "metadata": {},
     "output_type": "execute_result"
    }
   ],
   "source": [
    "2*(1+2)**2-2**2*2"
   ]
  },
  {
   "cell_type": "markdown",
   "id": "ecb843a7",
   "metadata": {},
   "source": [
    "### 建立變數\n",
    "- 依靠指定運算子"
   ]
  },
  {
   "cell_type": "code",
   "execution_count": 49,
   "id": "881f3457",
   "metadata": {},
   "outputs": [
    {
     "name": "stdout",
     "output_type": "stream",
     "text": [
      "total= 40\n"
     ]
    }
   ],
   "source": [
    "n = 15 #敘述式\n",
    "m = 25 #敘述式\n",
    "total = n+m #敘述式\n",
    "print(\"total=\",total) #敘述式"
   ]
  },
  {
   "cell_type": "code",
   "execution_count": 50,
   "id": "660248f6",
   "metadata": {},
   "outputs": [
    {
     "name": "stdout",
     "output_type": "stream",
     "text": [
      "25 15\n"
     ]
    }
   ],
   "source": [
    "x=5+20\n",
    "y=5+10\n",
    "print(x,y)"
   ]
  }
 ],
 "metadata": {
  "kernelspec": {
   "display_name": "base",
   "language": "python",
   "name": "python3"
  },
  "language_info": {
   "codemirror_mode": {
    "name": "ipython",
    "version": 3
   },
   "file_extension": ".py",
   "mimetype": "text/x-python",
   "name": "python",
   "nbconvert_exporter": "python",
   "pygments_lexer": "ipython3",
   "version": "3.12.9"
  }
 },
 "nbformat": 4,
 "nbformat_minor": 5
}
