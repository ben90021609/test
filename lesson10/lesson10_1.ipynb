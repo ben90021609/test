{
 "cells": [
  {
   "cell_type": "code",
   "execution_count": 2,
   "id": "0d1b1439",
   "metadata": {},
   "outputs": [
    {
     "name": "stdout",
     "output_type": "stream",
     "text": [
      "1.林士凱\n",
      "2.朱彥志\n",
      "3.孫火清\n"
     ]
    }
   ],
   "source": [
    "import random\n",
    "\n",
    "file = open(\"names.txt\",encoding='utf-8')\n",
    "contents:list[str] = file.readlines()\n",
    "file.close()\n",
    "names:list[str] = [name.strip() for name in contents]\n",
    "pick = int(input(\"請輸入所需要的姓名數量:\"));\n",
    "\n",
    "for idx, name in enumerate(random.sample(names, pick)):\n",
    "    print(f'{idx+1}.{name}')"
   ]
  },
  {
   "cell_type": "code",
   "execution_count": 14,
   "id": "9cf13a0c",
   "metadata": {},
   "outputs": [
    {
     "data": {
      "text/plain": [
       "[{'姓名': '林麗萍', '國文': 78, '英文': 80, '數學': 53},\n",
       " {'姓名': '楊健麟', '國文': 74, '英文': 88, '數學': 86},\n",
       " {'姓名': '陳怡容', '國文': 82, '英文': 97, '數學': 77},\n",
       " {'姓名': '謝水儒', '國文': 100, '英文': 58, '數學': 54},\n",
       " {'姓名': '林康亮', '國文': 61, '英文': 63, '數學': 59},\n",
       " {'姓名': '楊韋廷', '國文': 82, '英文': 75, '數學': 62},\n",
       " {'姓名': '楊火帆', '國文': 83, '英文': 63, '數學': 68},\n",
       " {'姓名': '艾巧夫', '國文': 87, '英文': 93, '數學': 75},\n",
       " {'姓名': '陳淑娟', '國文': 55, '英文': 62, '數學': 69},\n",
       " {'姓名': '杜明延', '國文': 73, '英文': 92, '數學': 66},\n",
       " {'姓名': '鞠冠宇', '國文': 92, '英文': 60, '數學': 93},\n",
       " {'姓名': '鍾俞禎', '國文': 87, '英文': 88, '數學': 66},\n",
       " {'姓名': '潘英迪', '國文': 87, '英文': 81, '數學': 89},\n",
       " {'姓名': '陳孝邦', '國文': 83, '英文': 65, '數學': 79},\n",
       " {'姓名': '王展人', '國文': 88, '英文': 78, '數學': 55},\n",
       " {'姓名': '黃翔杰', '國文': 99, '英文': 54, '數學': 85},\n",
       " {'姓名': '蔡嘉音', '國文': 90, '英文': 50, '數學': 54},\n",
       " {'姓名': '王良斌', '國文': 95, '英文': 66, '數學': 72},\n",
       " {'姓名': '林瑞喬', '國文': 91, '英文': 76, '數學': 60},\n",
       " {'姓名': '吳孟穎', '國文': 91, '英文': 88, '數學': 70},\n",
       " {'姓名': '杜儀鳳', '國文': 97, '英文': 51, '數學': 69},\n",
       " {'姓名': '戚亨', '國文': 56, '英文': 61, '數學': 95},\n",
       " {'姓名': '李慈啟', '國文': 56, '英文': 78, '數學': 52},\n",
       " {'姓名': '張婕妤', '國文': 88, '英文': 80, '數學': 79},\n",
       " {'姓名': '張伊映', '國文': 83, '英文': 78, '數學': 97},\n",
       " {'姓名': '黃淑芬', '國文': 99, '英文': 99, '數學': 99},\n",
       " {'姓名': '趙偉銘', '國文': 75, '英文': 92, '數學': 88},\n",
       " {'姓名': '葉志峰', '國文': 79, '英文': 73, '數學': 56},\n",
       " {'姓名': '溫重意', '國文': 76, '英文': 93, '數學': 70},\n",
       " {'姓名': '黃心航', '國文': 72, '英文': 96, '數學': 87},\n",
       " {'姓名': '游淑惠', '國文': 81, '英文': 97, '數學': 66},\n",
       " {'姓名': '唐翊修', '國文': 76, '英文': 78, '數學': 56},\n",
       " {'姓名': '張彥博', '國文': 92, '英文': 50, '數學': 96},\n",
       " {'姓名': '朱惠儀', '國文': 91, '英文': 66, '數學': 61},\n",
       " {'姓名': '林詠斌', '國文': 60, '英文': 87, '數學': 92},\n",
       " {'姓名': '陳向愛', '國文': 88, '英文': 53, '數學': 98},\n",
       " {'姓名': '龔姵君', '國文': 86, '英文': 98, '數學': 94},\n",
       " {'姓名': '鄭奇翰', '國文': 68, '英文': 76, '數學': 79},\n",
       " {'姓名': '張家秀', '國文': 89, '英文': 61, '數學': 98},\n",
       " {'姓名': '林珈發', '國文': 61, '英文': 77, '數學': 59}]"
      ]
     },
     "execution_count": 14,
     "metadata": {},
     "output_type": "execute_result"
    }
   ],
   "source": [
    "###建立記憶體的表格資料\n",
    "import random\n",
    "\n",
    "with open(\"names.txt\",encoding='utf-8') as file:#呼叫資料\n",
    "    contents:list[str] = file.readlines()#file.close()可以不用\n",
    "names:list[str] = [name.strip() for name in contents]\n",
    "pick = int(input(\"請輸入所需要的姓名數量:\"));\n",
    "\n",
    "selected_names = random.sample(names,pick)\n",
    "selected_names\n",
    "students_data:list[dict] = [\n",
    "    {\n",
    "    \"姓名\":name,\n",
    "    \"國文\":random.randint(50,100),\n",
    "    \"英文\":random.randint(50,100),\n",
    "    \"數學\":random.randint(50,100),\n",
    "    }\n",
    "    for name in selected_names\n",
    "]\n",
    "students_data"
   ]
  },
  {
   "cell_type": "code",
   "execution_count": 15,
   "id": "be985a43",
   "metadata": {},
   "outputs": [
    {
     "name": "stdout",
     "output_type": "stream",
     "text": [
      "成功寫入\n"
     ]
    }
   ],
   "source": [
    "import csv\n",
    "\n",
    "filednames = students_data[0].keys()\n",
    "with open(\"students.csv\",'w',newline='',encoding='utf-8') as csvfile:\n",
    "    writer = csv.DictWriter(csvfile,fieldnames=filednames)\n",
    "    writer.writeheader()\n",
    "    writer.writerows(students_data)\n",
    "print(\"成功寫入\")"
   ]
  }
 ],
 "metadata": {
  "kernelspec": {
   "display_name": "base",
   "language": "python",
   "name": "python3"
  },
  "language_info": {
   "codemirror_mode": {
    "name": "ipython",
    "version": 3
   },
   "file_extension": ".py",
   "mimetype": "text/x-python",
   "name": "python",
   "nbconvert_exporter": "python",
   "pygments_lexer": "ipython3",
   "version": "3.13.2"
  }
 },
 "nbformat": 4,
 "nbformat_minor": 5
}
